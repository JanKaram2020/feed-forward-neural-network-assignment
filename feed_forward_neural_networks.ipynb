{
  "nbformat": 4,
  "nbformat_minor": 0,
  "metadata": {
    "colab": {
      "name": "feed forward neural networks.ipynb",
      "provenance": [],
      "collapsed_sections": [],
      "authorship_tag": "ABX9TyOBlUT7TKLk2WTfPwni7Q2a",
      "include_colab_link": true
    },
    "kernelspec": {
      "name": "python3",
      "display_name": "Python 3"
    },
    "language_info": {
      "name": "python"
    }
  },
  "cells": [
    {
      "cell_type": "markdown",
      "metadata": {
        "id": "view-in-github",
        "colab_type": "text"
      },
      "source": [
        "<a href=\"https://colab.research.google.com/github/JanKaram2020/feed-forward-neural-network-assignment/blob/main/feed_forward_neural_networks.ipynb\" target=\"_parent\"><img src=\"https://colab.research.google.com/assets/colab-badge.svg\" alt=\"Open In Colab\"/></a>"
      ]
    },
    {
      "cell_type": "markdown",
      "source": [
        "## Import libraries"
      ],
      "metadata": {
        "id": "Cr4_tNGIgVE3"
      }
    },
    {
      "cell_type": "code",
      "execution_count": null,
      "metadata": {
        "id": "LmTdqT9aJ-h7"
      },
      "outputs": [],
      "source": [
        "import tensorflow as tf\n",
        "import numpy as np\n",
        "import matplotlib.pyplot as plt"
      ]
    },
    {
      "cell_type": "markdown",
      "source": [
        "## Load train and test data"
      ],
      "metadata": {
        "id": "Fw3qD6dlgZwQ"
      }
    },
    {
      "cell_type": "code",
      "source": [
        "fashion_mnist = tf.keras.datasets.fashion_mnist\n",
        "\n",
        "(train_images, train_labels), (test_images, test_labels) = fashion_mnist.load_data()"
      ],
      "metadata": {
        "id": "ojD-M61hLsBt"
      },
      "execution_count": null,
      "outputs": []
    },
    {
      "cell_type": "markdown",
      "source": [
        "## Create class names because dataset only has labels as numbers"
      ],
      "metadata": {
        "id": "HL-QMU5cgprZ"
      }
    },
    {
      "cell_type": "code",
      "source": [
        "class_names = ['T-shirt/top', 'Trouser', 'Pullover', 'Dress', 'Coat',\n",
        "               'Sandal', 'Shirt', 'Sneaker', 'Bag', 'Ankle boot']"
      ],
      "metadata": {
        "id": "o0TQ2EdhM2ke"
      },
      "execution_count": null,
      "outputs": []
    },
    {
      "cell_type": "markdown",
      "source": [
        "## Prepare images \n",
        "prepare test and train images to have only values between 0 and 1.\n",
        "values before preparing are between 0(black) and 255(white) because it's grayscale.\n",
        "> it's important to prepare data in the same way for training and testing.\n",
        "\n"
      ],
      "metadata": {
        "id": "4bArA4QThINh"
      }
    },
    {
      "cell_type": "code",
      "source": [
        "train_images = train_images / 255.0\n",
        "\n",
        "test_images = test_images / 255.0"
      ],
      "metadata": {
        "id": "GIH3jsNINXcc"
      },
      "execution_count": null,
      "outputs": []
    },
    {
      "cell_type": "markdown",
      "source": [
        "## Defining the model\n",
        "\n",
        "### Model = sequence of layers :\n",
        "1. Input layer and it conists of 784 neurons. We use it flatten the input shape of (28,28) into a vector of (28 * 28 = ) 784 neurons so that each pixel of the image will be associated with one neuron.\n",
        "2. Hidden layer with 128 neurons with paramters that the model learns during training with activation function(relu) that converts all negative values to zeros and keeps zeros and postitve values as is.\n",
        "3. Output layer with 10 neurons representing the 10 labels with activation function softmax that converts a vector of numbers(previous outputs) into a vector of probabilities(final outputs), where the probabilities of each value are proportional to the relative scale of each value in the vector.\n",
        "\n",
        "**Dense** means that every neuron from the previous layer is connected to a neuron in this layer. <br/>\n",
        "\n",
        "***this is a feed forward network because the information moves in only one direction which is forward from the input nodes, through the hidden node and to the output nodes. There are no cycles or loops in the network.***"
      ],
      "metadata": {
        "id": "z5TO2mUwkDFg"
      }
    },
    {
      "cell_type": "code",
      "source": [
        "model = tf.keras.Sequential([\n",
        "    tf.keras.layers.Flatten(input_shape=(28, 28)),\n",
        "    tf.keras.layers.Dense(128, activation='relu'),\n",
        "    tf.keras.layers.Dense(10, activation='softmax'),\n",
        "])"
      ],
      "metadata": {
        "id": "5k48br6sOR10"
      },
      "execution_count": null,
      "outputs": []
    },
    {
      "cell_type": "markdown",
      "source": [
        "## Compile the model with 3 required params\n",
        "1. **Optimizer**: This is how the model is updated based on the data it sees and its loss function. here we use the adam model.\n",
        "2. **Loss function**: This measures how accurate the model is during training. here we use SparseCategoricalCrossentropy (Cross-entropy loss, or log loss) which measures the performance of a classification model whose output is a probability value between 0 and 1. (Cross-entropy loss increases as the predicted probability diverges from the actual label.)\n",
        "3. **Metrics**: Used to monitor the training and testing steps. here we use accuracy, the fraction of the images that are correctly classified."
      ],
      "metadata": {
        "id": "xVRGGf6h0Du0"
      }
    },
    {
      "cell_type": "code",
      "source": [
        "model.compile(optimizer='adam',\n",
        "              loss=tf.keras.losses.SparseCategoricalCrossentropy(),\n",
        "              metrics=['accuracy'])"
      ],
      "metadata": {
        "id": "98X0Ij4GQIiK"
      },
      "execution_count": null,
      "outputs": []
    },
    {
      "cell_type": "markdown",
      "source": [
        "## Training the model\n",
        "epoches means iterations over dataset. here we chose 10 iterations."
      ],
      "metadata": {
        "id": "MvBhqWMJ81_o"
      }
    },
    {
      "cell_type": "code",
      "source": [
        "model.fit(train_images, train_labels, epochs=10)"
      ],
      "metadata": {
        "colab": {
          "base_uri": "https://localhost:8080/"
        },
        "id": "uVOW3YqSQQGb",
        "outputId": "598bd251-ecf2-4740-f705-1b00ba5a7e03"
      },
      "execution_count": null,
      "outputs": [
        {
          "output_type": "stream",
          "name": "stdout",
          "text": [
            "Epoch 1/10\n",
            "1875/1875 [==============================] - 4s 2ms/step - loss: 0.2304 - accuracy: 0.9149\n",
            "Epoch 2/10\n",
            "1875/1875 [==============================] - 4s 2ms/step - loss: 0.2237 - accuracy: 0.9164\n",
            "Epoch 3/10\n",
            "1875/1875 [==============================] - 4s 2ms/step - loss: 0.2163 - accuracy: 0.9194\n",
            "Epoch 4/10\n",
            "1875/1875 [==============================] - 4s 2ms/step - loss: 0.2100 - accuracy: 0.9212\n",
            "Epoch 5/10\n",
            "1875/1875 [==============================] - 4s 2ms/step - loss: 0.2034 - accuracy: 0.9252\n",
            "Epoch 6/10\n",
            "1875/1875 [==============================] - 4s 2ms/step - loss: 0.1974 - accuracy: 0.9262\n",
            "Epoch 7/10\n",
            "1875/1875 [==============================] - 4s 2ms/step - loss: 0.1922 - accuracy: 0.9286\n",
            "Epoch 8/10\n",
            "1875/1875 [==============================] - 4s 2ms/step - loss: 0.1885 - accuracy: 0.9290\n",
            "Epoch 9/10\n",
            "1875/1875 [==============================] - 4s 2ms/step - loss: 0.1844 - accuracy: 0.9321\n",
            "Epoch 10/10\n",
            "1875/1875 [==============================] - 4s 2ms/step - loss: 0.1788 - accuracy: 0.9328\n"
          ]
        },
        {
          "output_type": "execute_result",
          "data": {
            "text/plain": [
              "<keras.callbacks.History at 0x7f79bebb6490>"
            ]
          },
          "metadata": {},
          "execution_count": 10
        }
      ]
    },
    {
      "cell_type": "markdown",
      "source": [
        "## Test accuracy"
      ],
      "metadata": {
        "id": "L6-S1grY9eIw"
      }
    },
    {
      "cell_type": "code",
      "source": [
        "test_loss, test_acc = model.evaluate(test_images,  test_labels, verbose=2)\n",
        "print(\"---------------------------------------------------------------------------\")\n",
        "print('Test accuracy is', test_acc)"
      ],
      "metadata": {
        "id": "nSWvsug09cFp"
      },
      "execution_count": null,
      "outputs": []
    },
    {
      "cell_type": "markdown",
      "source": [
        "## Predict test images \n",
        "enter number of image and see predicted and actual class of image and show actual image."
      ],
      "metadata": {
        "id": "T6JELO5PAT50"
      }
    },
    {
      "cell_type": "code",
      "source": [
        "predictions = model.predict(test_images)\n",
        "test_number = int(input(\"Enter number of image you want to test \"))\n",
        "predictions[test_number]\n",
        "np.argmax(predictions[test_number])\n",
        "print(\"---------------------------------------------------------\")\n",
        "print(\"Predicted class is \" + class_names[np.argmax(predictions[test_number])])\n",
        "print(\"Actual class is \" + class_names[test_labels[test_number]])\n",
        "print(\"---------------------------------------------------------\")\n",
        "print(\"Image is\")\n",
        "plt.figure()\n",
        "plt.imshow(test_images[test_number])\n",
        "plt.colorbar()\n",
        "plt.grid(False)\n",
        "plt.show()"
      ],
      "metadata": {
        "colab": {
          "base_uri": "https://localhost:8080/",
          "height": 373
        },
        "id": "UA1ZTKXVRABM",
        "outputId": "734fd0f9-5feb-48c3-e9c7-63aaa7485476"
      },
      "execution_count": null,
      "outputs": [
        {
          "output_type": "stream",
          "name": "stdout",
          "text": [
            "Enter number of image you want to test 3\n",
            "---------------------------------------------------------\n",
            "Predicted class is Trouser\n",
            "Actual class is Trouser\n",
            "---------------------------------------------------------\n",
            "Image is\n"
          ]
        },
        {
          "output_type": "display_data",
          "data": {
            "text/plain": [
              "<Figure size 432x288 with 2 Axes>"
            ],
            "image/png": "[encoded data removed]"
          },
          "metadata": {
            "needs_background": "light"
          }
        }
      ]
    }
  ]
}